{
 "cells": [
  {
   "cell_type": "code",
   "execution_count": 2,
   "metadata": {},
   "outputs": [
    {
     "name": "stdout",
     "output_type": "stream",
     "text": [
      "enter amount to be deposited :3000\n",
      "deposited amount is: 3000.0\n",
      "enter amount to be deposited :400\n",
      "withdraw amount is : 400.0\n",
      "remaining balance is : 2600.0\n"
     ]
    }
   ],
   "source": [
    "class bank_account:\n",
    "    def __init__(self):\n",
    "        self.balance=0\n",
    "        \n",
    "    def deposit(self):\n",
    "        amount=float(input(\"enter amount to be deposited :\"))\n",
    "        self.balance=self.balance+amount\n",
    "        print(\"deposited amount is:\",amount)\n",
    "        \n",
    "    def withdraw(self):\n",
    "        amount=float(input(\"enter amount to be deposited :\"))\n",
    "        if self.balance>=amount:\n",
    "            self.balance=self.balance-amount\n",
    "            print(\"withdraw amount is :\",amount)\n",
    "        else:\n",
    "            print(\"\\n insufficient balance\")\n",
    "            \n",
    "    def display(self):\n",
    "        print(\"remaining balance is :\",self.balance)\n",
    "\n",
    "s=bank_account()\n",
    "s.deposit()\n",
    "s.withdraw()\n",
    "s.display()"
   ]
  },
  {
   "cell_type": "code",
   "execution_count": null,
   "metadata": {},
   "outputs": [],
   "source": []
  }
 ],
 "metadata": {
  "kernelspec": {
   "display_name": "Python 3",
   "language": "python",
   "name": "python3"
  },
  "language_info": {
   "codemirror_mode": {
    "name": "ipython",
    "version": 3
   },
   "file_extension": ".py",
   "mimetype": "text/x-python",
   "name": "python",
   "nbconvert_exporter": "python",
   "pygments_lexer": "ipython3",
   "version": "3.8.3"
  }
 },
 "nbformat": 4,
 "nbformat_minor": 4
}
